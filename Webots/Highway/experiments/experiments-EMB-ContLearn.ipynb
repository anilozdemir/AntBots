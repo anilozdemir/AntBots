{
 "cells": [
  {
   "cell_type": "markdown",
   "metadata": {},
   "source": [
    "# antBot Highway World Experiments: EMB Continuous Learning\n",
    "Run EMB on antBot Highway World Experiments"
   ]
  },
  {
   "cell_type": "code",
   "execution_count": 1,
   "metadata": {},
   "outputs": [],
   "source": [
    "import numpy as np\n",
    "import pandas as pd\n",
    "import matplotlib.pyplot as P\n",
    "import seaborn as sns\n",
    "from tqdm.notebook import trange, tqdm\n",
    "from antBotExperiments import antBotDatasets, antBotEMB\n",
    "import pyRC.learn.utils as utL\n",
    "from pytorch_lightning import Trainer\n",
    "import warnings\n",
    "warnings.filterwarnings(\"ignore\")\n",
    "# Plotting settings\n",
    "sns.set_context(\"notebook\", font_scale = 1.5)\n",
    "sns.set_style(\"dark\")\n",
    "sns.set_palette(\"deep\", 12)\n",
    "from ipywidgets import interact, interactive, fixed, interact_manual\n",
    "cmap='Greys_r'"
   ]
  },
  {
   "cell_type": "markdown",
   "metadata": {},
   "source": [
    "## Setup PyTorch-Lightning Experiment"
   ]
  },
  {
   "cell_type": "code",
   "execution_count": 2,
   "metadata": {},
   "outputs": [
    {
     "name": "stderr",
     "output_type": "stream",
     "text": [
      "GPU available: True, used: True\n",
      "TPU available: False, using: 0 TPU cores\n",
      "CUDA_VISIBLE_DEVICES: [0]\n"
     ]
    },
    {
     "name": "stdout",
     "output_type": "stream",
     "text": [
      ">> Network is constructed!\n",
      ">> Loaded 3 datasets of 200 images each!\n"
     ]
    },
    {
     "name": "stderr",
     "output_type": "stream",
     "text": [
      "\n",
      "  | Name | Type   | Params\n",
      "--------------------------------\n",
      "0 | RC   | ESN_NA | 100 K \n"
     ]
    },
    {
     "name": "stdout",
     "output_type": "stream",
     "text": [
      ">> Datasets are loaded!\n"
     ]
    },
    {
     "data": {
      "application/vnd.jupyter.widget-view+json": {
       "model_id": "4e4d2f77f9914f5eabf18f1f90b2b59c",
       "version_major": 2,
       "version_minor": 0
      },
      "text/plain": [
       "HBox(children=(HTML(value='Training'), FloatProgress(value=1.0, bar_style='info', layout=Layout(flex='2'), max…"
      ]
     },
     "metadata": {},
     "output_type": "display_data"
    },
    {
     "name": "stderr",
     "output_type": "stream",
     "text": [
      "Saving latest checkpoint..\n"
     ]
    },
    {
     "name": "stdout",
     "output_type": "stream",
     "text": [
      "\n",
      ">> Loaded 3 datasets of 200 images each!\n",
      ">> Datasets are loaded!\n"
     ]
    },
    {
     "data": {
      "application/vnd.jupyter.widget-view+json": {
       "model_id": "d05b0f3ba062415a8409755f91133484",
       "version_major": 2,
       "version_minor": 0
      },
      "text/plain": [
       "HBox(children=(HTML(value='Testing'), FloatProgress(value=1.0, bar_style='info', layout=Layout(flex='2'), max=…"
      ]
     },
     "metadata": {},
     "output_type": "display_data"
    },
    {
     "name": "stdout",
     "output_type": "stream",
     "text": [
      "--------------------------------------------------------------------------------\n",
      "DATALOADER:0 TEST RESULTS\n",
      "{'acc0': tensor(93.5000, device='cuda:0'),\n",
      " 'acc1': tensor(91., device='cuda:0'),\n",
      " 'acc2': tensor(100., device='cuda:0'),\n",
      " 'err0': tensor(10.4500, device='cuda:0'),\n",
      " 'err1': tensor(5.8950, device='cuda:0'),\n",
      " 'err2': tensor(0., device='cuda:0')}\n",
      "--------------------------------------------------------------------------------\n",
      "\n"
     ]
    }
   ],
   "source": [
    "# ## Training\n",
    "config = utL.getConfig('config.yaml')\n",
    "\n",
    "config['hyperparameters']['nReservoir']    = 500\n",
    "config['experimentDetails']['width']       = 64\n",
    "config['experimentDetails']['height']      = 32\n",
    "config['modelParameters']['nInput']        = config['experimentDetails']['width'] * config['experimentDetails']['height']\n",
    "config['modelParameters']['nOutput']       = config['experimentDetails']['nImages']\n",
    "config['experimentParameters']['nEpoch']   = 100\n",
    "config['experimentDetails']['dataSetPath'] = '../data/2000-10/'  # DataSet Relative Path\n",
    "config['experimentDetails']['dataSets']    = ['mountains', 'dusk', 'dawn_cloudy_empty'] # DataSet Names\n",
    "\n",
    "expDict = {\n",
    "            'gpus'                     : 1,\n",
    "            'profiler'                 : False,\n",
    "            'log_save_interval'        : 10000,\n",
    "            'progress_bar_refresh_rate': 1000,\n",
    "            'row_log_interval'         : 10000,\n",
    "            'max_epochs'               : config['experimentParameters']['nEpoch'],\n",
    "            }\n",
    "            \n",
    "exp     = antBotEMB(config)\n",
    "trainer = Trainer(**expDict)\n",
    "trainer.fit(exp); \n",
    "trainer.test(ckpt_path=None);"
   ]
  }
 ],
 "metadata": {
  "kernelspec": {
   "display_name": "Python 3",
   "language": "python",
   "name": "python3"
  },
  "language_info": {
   "codemirror_mode": {
    "name": "ipython",
    "version": 3
   },
   "file_extension": ".py",
   "mimetype": "text/x-python",
   "name": "python",
   "nbconvert_exporter": "python",
   "pygments_lexer": "ipython3",
   "version": "3.8.2"
  }
 },
 "nbformat": 4,
 "nbformat_minor": 4
}
