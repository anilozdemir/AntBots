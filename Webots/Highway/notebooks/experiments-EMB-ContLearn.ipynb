{
 "cells": [
  {
   "cell_type": "markdown",
   "metadata": {},
   "source": [
    "# antBot Highway World Experiments: EMB Continuous Learning\n",
    "Run EMB on antBot Highway World Experiments"
   ]
  },
  {
   "cell_type": "code",
   "execution_count": 1,
   "metadata": {},
   "outputs": [],
   "source": [
    "import numpy as np\n",
    "import pandas as pd\n",
    "import matplotlib.pyplot as P\n",
    "import seaborn as sns\n",
    "from tqdm.notebook import trange, tqdm\n",
    "from antBotExperiments import antBotDatasets, antBotEMB\n",
    "import pyRC.learn.utils as utL\n",
    "from pytorch_lightning import Trainer\n",
    "import warnings\n",
    "warnings.filterwarnings(\"ignore\")\n",
    "# Plotting settings\n",
    "sns.set_context(\"notebook\", font_scale = 1.5)\n",
    "sns.set_style(\"dark\")\n",
    "sns.set_palette(\"deep\", 12)\n",
    "from ipywidgets import interact, interactive, fixed, interact_manual\n",
    "cmap='Greys_r'"
   ]
  },
  {
   "cell_type": "markdown",
   "metadata": {},
   "source": [
    "## Setup Datasets"
   ]
  },
  {
   "cell_type": "code",
   "execution_count": 2,
   "metadata": {},
   "outputs": [
    {
     "name": "stdout",
     "output_type": "stream",
     "text": [
      ">> Loaded 7 datasets of 200 images each!\n"
     ]
    },
    {
     "data": {
      "text/plain": [
       "('mountains', 'stadium', 'mountains', 'stadium')"
      ]
     },
     "execution_count": 2,
     "metadata": {},
     "output_type": "execute_result"
    }
   ],
   "source": [
    "ds = antBotDatasets()\n",
    "DL0 = ds.get('mountains')\n",
    "DS0 = ds.dataSet\n",
    "DL1 = ds.get('stadium')\n",
    "DS1 = ds.dataSet\n",
    "DL0.name, DL1.name, DS0.name, DS1.name"
   ]
  },
  {
   "cell_type": "code",
   "execution_count": 3,
   "metadata": {},
   "outputs": [],
   "source": [
    "DL = ds.concatDatasets([DS0, DS1])"
   ]
  },
  {
   "cell_type": "markdown",
   "metadata": {},
   "source": [
    "## Setup PyTorch-Lightning Experiment"
   ]
  },
  {
   "cell_type": "code",
   "execution_count": 5,
   "metadata": {},
   "outputs": [
    {
     "name": "stderr",
     "output_type": "stream",
     "text": [
      "GPU available: True, used: True\n",
      "TPU available: False, using: 0 TPU cores\n",
      "CUDA_VISIBLE_DEVICES: [0]\n"
     ]
    },
    {
     "name": "stdout",
     "output_type": "stream",
     "text": [
      ">> Network is constructed!\n",
      ">> Loaded 7 datasets of 200 images each!\n",
      ">> Datasets are loaded!\n"
     ]
    },
    {
     "name": "stderr",
     "output_type": "stream",
     "text": [
      "\n",
      "  | Name | Type   | Params\n",
      "--------------------------------\n",
      "0 | RC   | ESN_NA | 800 K \n"
     ]
    },
    {
     "data": {
      "application/vnd.jupyter.widget-view+json": {
       "model_id": "c98f344e178a49ae8c09b8cc4fc2fca9",
       "version_major": 2,
       "version_minor": 0
      },
      "text/plain": [
       "HBox(children=(HTML(value='Training'), FloatProgress(value=1.0, bar_style='info', layout=Layout(flex='2'), max…"
      ]
     },
     "metadata": {},
     "output_type": "display_data"
    },
    {
     "name": "stderr",
     "output_type": "stream",
     "text": [
      "Saving latest checkpoint..\n"
     ]
    },
    {
     "name": "stdout",
     "output_type": "stream",
     "text": [
      "\n",
      ">> Loaded 7 datasets of 200 images each!\n",
      ">> Datasets are loaded!\n"
     ]
    },
    {
     "data": {
      "application/vnd.jupyter.widget-view+json": {
       "model_id": "386e9dc9885d43b79387a1a47393b45e",
       "version_major": 2,
       "version_minor": 0
      },
      "text/plain": [
       "HBox(children=(HTML(value='Testing'), FloatProgress(value=1.0, bar_style='info', layout=Layout(flex='2'), max=…"
      ]
     },
     "metadata": {},
     "output_type": "display_data"
    },
    {
     "name": "stdout",
     "output_type": "stream",
     "text": [
      "--------------------------------------------------------------------------------\n",
      "DATALOADER:0 TEST RESULTS\n",
      "{'acc_0': tensor(95.5000, device='cuda:0'),\n",
      " 'acc_1': tensor(99.5000, device='cuda:0'),\n",
      " 'acc_2': tensor(100., device='cuda:0'),\n",
      " 'err_0': tensor(4.1600, device='cuda:0'),\n",
      " 'err_1': tensor(0.8200, device='cuda:0'),\n",
      " 'err_2': tensor(0.1250, device='cuda:0')}\n",
      "--------------------------------------------------------------------------------\n",
      "\n"
     ]
    }
   ],
   "source": [
    "# ## Training\n",
    "config = utL.getConfig('config.yaml')\n",
    "\n",
    "config['hyperparameters']['nReservoir']  = 4000\n",
    "config['experimentParameters']['nEpoch'] = 100\n",
    "config['experimentDetails']['width']     = 360\n",
    "config['experimentDetails']['height']    = 25\n",
    "config['modelParameters']['nInput']      = config['experimentDetails']['width'] * config['experimentDetails']['height']\n",
    "\n",
    "expDict = {\n",
    "            'gpus'                     : 1,\n",
    "            'profiler'                 : False,\n",
    "            'log_save_interval'        : 10000,\n",
    "            'progress_bar_refresh_rate': 1000,\n",
    "            'row_log_interval'         : 10000,\n",
    "            'max_epochs'               : config['experimentParameters']['nEpoch'],\n",
    "            }\n",
    "            \n",
    "exp     = antBotEMB(config)\n",
    "trainer = Trainer(**expDict)\n",
    "trainer.fit(exp); \n",
    "trainer.test(ckpt_path=None);"
   ]
  },
  {
   "cell_type": "code",
   "execution_count": null,
   "metadata": {},
   "outputs": [],
   "source": []
  }
 ],
 "metadata": {
  "kernelspec": {
   "display_name": "Python 3",
   "language": "python",
   "name": "python3"
  },
  "language_info": {
   "codemirror_mode": {
    "name": "ipython",
    "version": 3
   },
   "file_extension": ".py",
   "mimetype": "text/x-python",
   "name": "python",
   "nbconvert_exporter": "python",
   "pygments_lexer": "ipython3",
   "version": "3.8.2"
  }
 },
 "nbformat": 4,
 "nbformat_minor": 4
}
